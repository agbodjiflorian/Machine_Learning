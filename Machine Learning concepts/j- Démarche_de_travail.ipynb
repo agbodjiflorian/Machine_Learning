{
 "cells": [
  {
   "cell_type": "markdown",
   "id": "ed9a4922",
   "metadata": {},
   "source": [
    "1- Définir un objectif mesurable :\n",
    "    * Objectif \n",
    "    * Métrique\n",
    "\n",
    "2- EDA : Exploratory Data Analysis\n",
    "\n",
    "3- Pre-processing\n",
    "\n",
    "4- Modelling"
   ]
  },
  {
   "cell_type": "markdown",
   "id": "62904fe5",
   "metadata": {},
   "source": [
    "### Exploratory Data Analysis"
   ]
  },
  {
   "cell_type": "markdown",
   "id": "e24fd49f",
   "metadata": {},
   "source": [
    "Objectif: comprendre au maximum les données dont on dispose pour définir une stratégie de modélisation."
   ]
  },
  {
   "cell_type": "markdown",
   "id": "1da0bf8a",
   "metadata": {},
   "source": [
    "Checklist de base (non exhaustive).\n",
    "\n",
    "Analyse de la forme:\n",
    "- Identification de la target\n",
    "- Nombre de lignes et de colonne \n",
    "- Types de variables (qualitatives, discrètes, continues)\n",
    "- Identification des valeurs manquantes\n",
    "\n",
    "Analyse du fond:\n",
    "- Visualisation de la target (histogramme / boxplot)\n",
    "- Compréhension des différentes variables (internet)\n",
    "- Visualisation des relations features-target (histogramme / boxplot)\n",
    "- Identification des outliers"
   ]
  },
  {
   "cell_type": "markdown",
   "id": "ac877d88",
   "metadata": {},
   "source": [
    "### Pre-processing"
   ]
  },
  {
   "cell_type": "markdown",
   "id": "8d447e38",
   "metadata": {},
   "source": [
    "Objectif: transformer le data pour le mettre dans un format propice au Machine Learning."
   ]
  },
  {
   "cell_type": "markdown",
   "id": "30ce09c6",
   "metadata": {},
   "source": [
    "Checklist de base (non exhaustive).\n",
    "\n",
    "- Création du Train set / Test set\n",
    "- Elimination des NaN : dropna, imputation, colonnes 'vides'\n",
    "- Encodage\n",
    "- Suppression des outliers néfastes au modèle\n",
    "- Feature Selection\n",
    "- Feature Engineering\n",
    "- Feature Scaling"
   ]
  },
  {
   "cell_type": "markdown",
   "id": "87be57c2",
   "metadata": {},
   "source": [
    "### Modelling"
   ]
  },
  {
   "cell_type": "markdown",
   "id": "522ff45f",
   "metadata": {},
   "source": [
    "Objectif: développer un modèle de machine learning qui répond à l'objectif final."
   ]
  },
  {
   "cell_type": "markdown",
   "id": "8fd51158",
   "metadata": {},
   "source": [
    "Checklist de base (non exhaustive).\n",
    "\n",
    "- Définir une fonction d'évaluation\n",
    "- Entrainement de différentsmodèles\n",
    "- Optimisation avec GridSearchCV\n",
    "- (Optionnel) Analyse des erreurs et retour au Preprocessing ou EDA\n",
    "- Learning Curve et prise de décision"
   ]
  },
  {
   "cell_type": "code",
   "execution_count": null,
   "id": "38a6bcb9",
   "metadata": {},
   "outputs": [],
   "source": []
  },
  {
   "cell_type": "code",
   "execution_count": null,
   "id": "7f4c35fc",
   "metadata": {},
   "outputs": [],
   "source": []
  }
 ],
 "metadata": {
  "kernelspec": {
   "display_name": "Python 3 (ipykernel)",
   "language": "python",
   "name": "python3"
  },
  "language_info": {
   "codemirror_mode": {
    "name": "ipython",
    "version": 3
   },
   "file_extension": ".py",
   "mimetype": "text/x-python",
   "name": "python",
   "nbconvert_exporter": "python",
   "pygments_lexer": "ipython3",
   "version": "3.11.3"
  }
 },
 "nbformat": 4,
 "nbformat_minor": 5
}
