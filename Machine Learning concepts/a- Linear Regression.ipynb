{
 "cells": [
  {
   "cell_type": "raw",
   "id": "48953849",
   "metadata": {},
   "source": [
    "Machine Learning: Donner à une machine la capacité d'apprendre."
   ]
  },
  {
   "cell_type": "raw",
   "id": "4956c448",
   "metadata": {},
   "source": [
    "A- Apprentissage supervisé: (à partir d'exemples) \n",
    "    On distingue deux types d'apprentissage supervisé;\n",
    "    - la régression : prédire la valeur d'une variable continue (infinité de valeur)\n",
    "    - la classification : prédire la valeur d'une variable discrète\n",
    "  \n",
    "   L'AS, c'est la relation entre deux variables d'un dataset (target_variable y, features x), y = f(x)\n",
    "  \n",
    "  1- DATASET (target_variable y, features x)\n",
    "   Par convention, on note:\n",
    "   ° m = nombre d'exemples dans le dataset (nombre de lignes)\n",
    "   ° n = nombre de features dans le dataset (nombre de colonne en dehors de la colonne target)\n",
    "    \n",
    "      (exemple)\n",
    "   ° X               exemple étant la position du feature dans le dataset\n",
    "      feature \n",
    "      \n",
    "   2- MODELE (paramètres) = prédire y en fonction de x\n",
    "   \n",
    "   3- FONCTION COUT = mesurer les erreurs entre y et les prédictions\n",
    "       - erreur quadratique moyenne ou mean squared error\n",
    "   \n",
    "   4- ALGORITHME DE MINIMISATION = minimiser les erreurs\n",
    "       - descente de gradient ou gradient descent = algorithme d'optimisation qui permet \n",
    "           de trouver le minimum de n'importe quelle fonction convexe.\n",
    "           \n",
    "           En boucle:\n",
    "           - calcul de la pente (la dérivée)\n",
    "           - petit pas dans la descente (alpha, learning rate)\n",
    "           "
   ]
  },
  {
   "cell_type": "code",
   "execution_count": 1,
   "id": "439c2998",
   "metadata": {},
   "outputs": [],
   "source": [
    "import numpy as np\n",
    "from sklearn.datasets import make_regression\n",
    "import matplotlib.pyplot as plt"
   ]
  },
  {
   "cell_type": "markdown",
   "id": "fbb27183",
   "metadata": {},
   "source": [
    "# Simple Linear Regression"
   ]
  },
  {
   "cell_type": "markdown",
   "id": "205069f7",
   "metadata": {},
   "source": [
    "# 1. Dataset"
   ]
  },
  {
   "cell_type": "code",
   "execution_count": 2,
   "id": "96f1a828",
   "metadata": {},
   "outputs": [
    {
     "data": {
      "text/plain": [
       "<matplotlib.collections.PathCollection at 0x1a2e559d050>"
      ]
     },
     "execution_count": 2,
     "metadata": {},
     "output_type": "execute_result"
    },
    {
     "data": {
      "image/png": "[encoded data removed]",
      "text/plain": [
       "<Figure size 640x480 with 1 Axes>"
      ]
     },
     "metadata": {},
     "output_type": "display_data"
    }
   ],
   "source": [
    "x, y = make_regression(n_samples = 100, n_features = 1, noise = 10)\n",
    "plt.scatter(x, y)"
   ]
  },
  {
   "cell_type": "code",
   "execution_count": 3,
   "id": "3c9f8bab",
   "metadata": {},
   "outputs": [
    {
     "name": "stdout",
     "output_type": "stream",
     "text": [
      "(100, 1)\n",
      "(100,)\n"
     ]
    }
   ],
   "source": [
    "print(x.shape)\n",
    "print(y.shape)"
   ]
  },
  {
   "cell_type": "code",
   "execution_count": 4,
   "id": "a26c0a0c",
   "metadata": {},
   "outputs": [
    {
     "data": {
      "text/plain": [
       "(100, 1)"
      ]
     },
     "execution_count": 4,
     "metadata": {},
     "output_type": "execute_result"
    }
   ],
   "source": [
    "y = y.reshape(y.shape[0], 1) # car avec la fonction make_regression, les dimensions de y sont incomplètes\n",
    "y.shape"
   ]
  },
  {
   "cell_type": "code",
   "execution_count": 5,
   "id": "0f8e61ec",
   "metadata": {},
   "outputs": [
    {
     "data": {
      "text/plain": [
       "array([[-0.94396431,  1.        ],\n",
       "       [-0.86464051,  1.        ],\n",
       "       [-0.53673626,  1.        ],\n",
       "       [ 0.06020087,  1.        ],\n",
       "       [ 0.66069903,  1.        ],\n",
       "       [-0.39301742,  1.        ],\n",
       "       [-0.7896133 ,  1.        ],\n",
       "       [ 0.21506049,  1.        ],\n",
       "       [-0.60800997,  1.        ],\n",
       "       [-0.61519717,  1.        ],\n",
       "       [-0.0663514 ,  1.        ],\n",
       "       [-0.7855417 ,  1.        ],\n",
       "       [ 0.31331985,  1.        ],\n",
       "       [ 0.12946717,  1.        ],\n",
       "       [-0.13597139,  1.        ],\n",
       "       [-0.46186069,  1.        ],\n",
       "       [ 0.54217591,  1.        ],\n",
       "       [-0.59432344,  1.        ],\n",
       "       [ 0.49714031,  1.        ],\n",
       "       [ 1.01341446,  1.        ],\n",
       "       [ 0.58591112,  1.        ],\n",
       "       [ 1.87374142,  1.        ],\n",
       "       [-0.13056596,  1.        ],\n",
       "       [ 0.11052709,  1.        ],\n",
       "       [-0.16636472,  1.        ],\n",
       "       [-1.09191861,  1.        ],\n",
       "       [ 0.12862267,  1.        ],\n",
       "       [-0.56955514,  1.        ],\n",
       "       [-0.62261516,  1.        ],\n",
       "       [-0.4227315 ,  1.        ],\n",
       "       [ 2.04898155,  1.        ],\n",
       "       [-0.72591011,  1.        ],\n",
       "       [-0.85870064,  1.        ],\n",
       "       [ 0.24883093,  1.        ],\n",
       "       [-1.56872748,  1.        ],\n",
       "       [ 0.01131135,  1.        ],\n",
       "       [-0.09618162,  1.        ],\n",
       "       [ 0.10631026,  1.        ],\n",
       "       [ 1.47948813,  1.        ],\n",
       "       [-0.18726888,  1.        ],\n",
       "       [-1.55344902,  1.        ],\n",
       "       [-1.04328727,  1.        ],\n",
       "       [-1.1086275 ,  1.        ],\n",
       "       [-1.2133181 ,  1.        ],\n",
       "       [ 1.49689059,  1.        ],\n",
       "       [-0.52731354,  1.        ],\n",
       "       [-0.66469891,  1.        ],\n",
       "       [-0.79275299,  1.        ],\n",
       "       [-0.07414969,  1.        ],\n",
       "       [ 0.47495953,  1.        ],\n",
       "       [ 0.82632028,  1.        ],\n",
       "       [-1.46100345,  1.        ],\n",
       "       [ 0.81822471,  1.        ],\n",
       "       [ 0.86048499,  1.        ],\n",
       "       [-1.32686762,  1.        ],\n",
       "       [ 0.78105752,  1.        ],\n",
       "       [ 2.24652719,  1.        ],\n",
       "       [ 0.56295524,  1.        ],\n",
       "       [ 0.45982371,  1.        ],\n",
       "       [ 1.39092109,  1.        ],\n",
       "       [-0.39567679,  1.        ],\n",
       "       [ 2.91049395,  1.        ],\n",
       "       [-0.67131859,  1.        ],\n",
       "       [-0.23591145,  1.        ],\n",
       "       [ 1.20910286,  1.        ],\n",
       "       [-0.02473499,  1.        ],\n",
       "       [-0.23518489,  1.        ],\n",
       "       [-0.69043719,  1.        ],\n",
       "       [-0.90167648,  1.        ],\n",
       "       [-0.62901738,  1.        ],\n",
       "       [ 0.0821141 ,  1.        ],\n",
       "       [-0.23646341,  1.        ],\n",
       "       [-0.59413349,  1.        ],\n",
       "       [ 0.67967813,  1.        ],\n",
       "       [ 1.31102517,  1.        ],\n",
       "       [ 0.30057645,  1.        ],\n",
       "       [-0.40565545,  1.        ],\n",
       "       [-0.8601769 ,  1.        ],\n",
       "       [-0.81121224,  1.        ],\n",
       "       [-0.87504276,  1.        ],\n",
       "       [ 0.53964089,  1.        ],\n",
       "       [-0.19057155,  1.        ],\n",
       "       [ 0.24529889,  1.        ],\n",
       "       [-0.42866922,  1.        ],\n",
       "       [ 0.38879253,  1.        ],\n",
       "       [ 2.15134461,  1.        ],\n",
       "       [ 2.03220473,  1.        ],\n",
       "       [ 1.20134684,  1.        ],\n",
       "       [ 0.29725134,  1.        ],\n",
       "       [ 0.20197809,  1.        ],\n",
       "       [-0.14456418,  1.        ],\n",
       "       [-2.38103172,  1.        ],\n",
       "       [ 1.94271161,  1.        ],\n",
       "       [ 0.04288795,  1.        ],\n",
       "       [-1.04794436,  1.        ],\n",
       "       [-3.26161339,  1.        ],\n",
       "       [ 0.47116866,  1.        ],\n",
       "       [ 1.03597094,  1.        ],\n",
       "       [-1.14386921,  1.        ],\n",
       "       [ 0.54724469,  1.        ]])"
      ]
     },
     "execution_count": 5,
     "metadata": {},
     "output_type": "execute_result"
    }
   ],
   "source": [
    "# matrice X\n",
    "X = np.hstack((x, np.ones(x.shape)))\n",
    "X"
   ]
  },
  {
   "cell_type": "code",
   "execution_count": 6,
   "id": "d7ff7c70",
   "metadata": {},
   "outputs": [
    {
     "data": {
      "text/plain": [
       "array([[ 0.28928058],\n",
       "       [-0.40080915]])"
      ]
     },
     "execution_count": 6,
     "metadata": {},
     "output_type": "execute_result"
    }
   ],
   "source": [
    "# générer des nombres aléatoires dans une matrice\n",
    "theta = np.random.randn(2,1)\n",
    "theta"
   ]
  },
  {
   "cell_type": "markdown",
   "id": "db94e84c",
   "metadata": {},
   "source": [
    "# 2. Modèle"
   ]
  },
  {
   "cell_type": "code",
   "execution_count": 7,
   "id": "8c795aca",
   "metadata": {},
   "outputs": [],
   "source": [
    "def model(X, theta):\n",
    "    return(X.dot(theta))"
   ]
  },
  {
   "cell_type": "code",
   "execution_count": 8,
   "id": "1ea061fc",
   "metadata": {},
   "outputs": [
    {
     "data": {
      "text/plain": [
       "[<matplotlib.lines.Line2D at 0x1a2e59001d0>]"
      ]
     },
     "execution_count": 8,
     "metadata": {},
     "output_type": "execute_result"
    },
    {
     "data": {
      "image/png": "[encoded data removed]",
      "text/plain": [
       "<Figure size 640x480 with 1 Axes>"
      ]
     },
     "metadata": {},
     "output_type": "display_data"
    }
   ],
   "source": [
    "plt.plot(x, model(X, theta))"
   ]
  },
  {
   "cell_type": "markdown",
   "id": "e27a6d4c",
   "metadata": {},
   "source": [
    "# 3. Fonction cout"
   ]
  },
  {
   "cell_type": "code",
   "execution_count": 9,
   "id": "43577e32",
   "metadata": {},
   "outputs": [],
   "source": [
    "def cost_function(X, y, theta):\n",
    "    m = len(y) # ou m = x.shape[0]\n",
    "    return (1 / (2 * m) * np.sum((model(X, theta) - y)**2))"
   ]
  },
  {
   "cell_type": "code",
   "execution_count": 10,
   "id": "c325e416",
   "metadata": {},
   "outputs": [
    {
     "data": {
      "text/plain": [
       "2303.268661909364"
      ]
     },
     "execution_count": 10,
     "metadata": {},
     "output_type": "execute_result"
    }
   ],
   "source": [
    "cost_function(X, y, theta)"
   ]
  },
  {
   "cell_type": "markdown",
   "id": "b2d7e49b",
   "metadata": {},
   "source": [
    "# 4. Gradient et Descente de Gradient"
   ]
  },
  {
   "cell_type": "code",
   "execution_count": 11,
   "id": "d029998f",
   "metadata": {},
   "outputs": [],
   "source": [
    "def gradient(X, y, theta):\n",
    "    m = len(y) # ou m = x.shape[0]\n",
    "    return(1 / (m) * X.T.dot(model(X, theta) - y))"
   ]
  },
  {
   "cell_type": "code",
   "execution_count": 12,
   "id": "933c1556",
   "metadata": {},
   "outputs": [],
   "source": [
    "def gradient_descent(X, y, theta, learning_rate, n_iterations):\n",
    "    cost_history = np.zeros(n_iterations)\n",
    "    for i in range(n_iterations):\n",
    "        theta = theta - learning_rate * gradient(X, y, theta)\n",
    "        cost_history[i] = cost_function(X, y, theta)\n",
    "    return(theta, cost_history)"
   ]
  },
  {
   "cell_type": "markdown",
   "id": "fc0bd94b",
   "metadata": {},
   "source": [
    "# 5. Entrainement du modèle"
   ]
  },
  {
   "cell_type": "code",
   "execution_count": 13,
   "id": "d61ebc11",
   "metadata": {},
   "outputs": [],
   "source": [
    "theta_final, cost_history = gradient_descent(X, y, theta, learning_rate=0.01, n_iterations=1000)"
   ]
  },
  {
   "cell_type": "code",
   "execution_count": 14,
   "id": "9cf94205",
   "metadata": {},
   "outputs": [
    {
     "data": {
      "text/plain": [
       "array([[67.72590236],\n",
       "       [ 1.0119759 ]])"
      ]
     },
     "execution_count": 14,
     "metadata": {},
     "output_type": "execute_result"
    }
   ],
   "source": [
    "theta_final"
   ]
  },
  {
   "cell_type": "code",
   "execution_count": 15,
   "id": "54045dfe",
   "metadata": {},
   "outputs": [
    {
     "data": {
      "text/plain": [
       "[<matplotlib.lines.Line2D at 0x1a2e5902650>]"
      ]
     },
     "execution_count": 15,
     "metadata": {},
     "output_type": "execute_result"
    },
    {
     "data": {
      "image/png": "[encoded data removed]",
      "text/plain": [
       "<Figure size 640x480 with 1 Axes>"
      ]
     },
     "metadata": {},
     "output_type": "display_data"
    }
   ],
   "source": [
    "# vérifier si le vecteur theta nous donne de bons résultats\n",
    "predictions = model(X, theta_final)\n",
    "\n",
    "plt.scatter(x, y)\n",
    "plt.plot(x, predictions, c = 'r')"
   ]
  },
  {
   "cell_type": "markdown",
   "id": "7fbd8cf5",
   "metadata": {},
   "source": [
    "# 6. Courbe d'apprentissage"
   ]
  },
  {
   "cell_type": "code",
   "execution_count": 16,
   "id": "506d56b6",
   "metadata": {},
   "outputs": [
    {
     "data": {
      "text/plain": [
       "[<matplotlib.lines.Line2D at 0x1a2e59ca590>]"
      ]
     },
     "execution_count": 16,
     "metadata": {},
     "output_type": "execute_result"
    },
    {
     "data": {
      "image/png": "[encoded data removed]",
      "text/plain": [
       "<Figure size 640x480 with 1 Axes>"
      ]
     },
     "metadata": {},
     "output_type": "display_data"
    }
   ],
   "source": [
    "plt.plot(range(1000), cost_history)"
   ]
  },
  {
   "cell_type": "markdown",
   "id": "6b1ec354",
   "metadata": {},
   "source": [
    "# 7. Coefficient de détermination"
   ]
  },
  {
   "cell_type": "raw",
   "id": "b1ef3188",
   "metadata": {},
   "source": [
    "Pour évaluer la performance du modèle"
   ]
  },
  {
   "cell_type": "code",
   "execution_count": 17,
   "id": "14fa1b3d",
   "metadata": {},
   "outputs": [],
   "source": [
    "def coef_determination(y, pred):\n",
    "    u = ((y - pred)**2).sum()\n",
    "    v = ((y - y.mean())**2).sum()\n",
    "    \n",
    "    return(1 - u/v)"
   ]
  },
  {
   "cell_type": "code",
   "execution_count": 18,
   "id": "0756d363",
   "metadata": {},
   "outputs": [
    {
     "data": {
      "text/plain": [
       "0.9843553067748555"
      ]
     },
     "execution_count": 18,
     "metadata": {},
     "output_type": "execute_result"
    }
   ],
   "source": [
    "coef_determination(y, predictions)"
   ]
  },
  {
   "cell_type": "markdown",
   "id": "0f981576",
   "metadata": {},
   "source": [
    "# Polynomial Linear Regression"
   ]
  },
  {
   "cell_type": "code",
   "execution_count": 19,
   "id": "3c808692",
   "metadata": {},
   "outputs": [],
   "source": [
    "# 1- Dataset\n",
    "i, j = make_regression(n_samples = 100, n_features = 1, noise = 10)\n",
    "j = j + abs(j/2)"
   ]
  },
  {
   "cell_type": "code",
   "execution_count": 20,
   "id": "e16cf51b",
   "metadata": {},
   "outputs": [
    {
     "name": "stdout",
     "output_type": "stream",
     "text": [
      "(100, 1)\n",
      "(100,)\n"
     ]
    }
   ],
   "source": [
    "print(i.shape)\n",
    "print(j.shape)"
   ]
  },
  {
   "cell_type": "code",
   "execution_count": 21,
   "id": "0701debd",
   "metadata": {},
   "outputs": [],
   "source": [
    "j = j.reshape(j.shape[0], 1)"
   ]
  },
  {
   "cell_type": "code",
   "execution_count": 22,
   "id": "d5560222",
   "metadata": {},
   "outputs": [
    {
     "name": "stdout",
     "output_type": "stream",
     "text": [
      "(100, 1)\n"
     ]
    }
   ],
   "source": [
    "print(j.shape)"
   ]
  },
  {
   "cell_type": "code",
   "execution_count": 23,
   "id": "b8461d8b",
   "metadata": {},
   "outputs": [
    {
     "data": {
      "text/plain": [
       "<matplotlib.collections.PathCollection at 0x1a2e726c510>"
      ]
     },
     "execution_count": 23,
     "metadata": {},
     "output_type": "execute_result"
    },
    {
     "data": {
      "image/png": "[encoded data removed]",
      "text/plain": [
       "<Figure size 640x480 with 1 Axes>"
      ]
     },
     "metadata": {},
     "output_type": "display_data"
    }
   ],
   "source": [
    "plt.scatter(i, j)"
   ]
  },
  {
   "cell_type": "code",
   "execution_count": 24,
   "id": "1b59b21f",
   "metadata": {},
   "outputs": [
    {
     "data": {
      "text/plain": [
       "array([[ 0.76323722,  1.        ],\n",
       "       [-0.17694279,  1.        ],\n",
       "       [ 2.05498164,  1.        ],\n",
       "       [ 0.5188493 ,  1.        ],\n",
       "       [-0.34127659,  1.        ],\n",
       "       [-1.27939417,  1.        ],\n",
       "       [ 0.21163705,  1.        ],\n",
       "       [ 2.07962253,  1.        ],\n",
       "       [ 1.53223545,  1.        ],\n",
       "       [ 0.52913714,  1.        ],\n",
       "       [-0.27643881,  1.        ],\n",
       "       [ 1.47108851,  1.        ],\n",
       "       [-0.02447539,  1.        ],\n",
       "       [ 0.16765815,  1.        ],\n",
       "       [ 1.75678904,  1.        ],\n",
       "       [ 0.81577846,  1.        ],\n",
       "       [-0.63598087,  1.        ],\n",
       "       [ 0.82533555,  1.        ],\n",
       "       [ 0.96082087,  1.        ],\n",
       "       [ 0.7613902 ,  1.        ],\n",
       "       [-0.09555282,  1.        ],\n",
       "       [ 0.67956864,  1.        ],\n",
       "       [-1.03517429,  1.        ],\n",
       "       [ 0.09995226,  1.        ],\n",
       "       [-1.66510014,  1.        ],\n",
       "       [-0.42829315,  1.        ],\n",
       "       [-0.59271531,  1.        ],\n",
       "       [-1.00280863,  1.        ],\n",
       "       [-0.27249081,  1.        ],\n",
       "       [ 1.17166694,  1.        ],\n",
       "       [ 1.79106134,  1.        ],\n",
       "       [-0.33111232,  1.        ],\n",
       "       [ 0.88645337,  1.        ],\n",
       "       [-0.52217554,  1.        ],\n",
       "       [ 0.74197747,  1.        ],\n",
       "       [-0.92657729,  1.        ],\n",
       "       [-0.30189545,  1.        ],\n",
       "       [ 2.20467976,  1.        ],\n",
       "       [-0.73910548,  1.        ],\n",
       "       [ 0.08680198,  1.        ],\n",
       "       [-0.92399751,  1.        ],\n",
       "       [ 0.12123092,  1.        ],\n",
       "       [-0.4984048 ,  1.        ],\n",
       "       [ 0.90552668,  1.        ],\n",
       "       [ 1.11669503,  1.        ],\n",
       "       [-0.1448721 ,  1.        ],\n",
       "       [-0.43177323,  1.        ],\n",
       "       [ 0.91171069,  1.        ],\n",
       "       [ 0.88683259,  1.        ],\n",
       "       [-0.17565982,  1.        ],\n",
       "       [ 0.45218096,  1.        ],\n",
       "       [-0.20810495,  1.        ],\n",
       "       [-0.34635175,  1.        ],\n",
       "       [-1.73944334,  1.        ],\n",
       "       [ 0.27219356,  1.        ],\n",
       "       [ 0.81629271,  1.        ],\n",
       "       [-1.15367097,  1.        ],\n",
       "       [-0.61643999,  1.        ],\n",
       "       [ 0.12300377,  1.        ],\n",
       "       [-0.30913423,  1.        ],\n",
       "       [-1.49948572,  1.        ],\n",
       "       [-2.04738288,  1.        ],\n",
       "       [ 0.04990796,  1.        ],\n",
       "       [-1.03096146,  1.        ],\n",
       "       [-0.3751752 ,  1.        ],\n",
       "       [ 0.11795048,  1.        ],\n",
       "       [ 1.09703106,  1.        ],\n",
       "       [ 0.53814585,  1.        ],\n",
       "       [-0.75288985,  1.        ],\n",
       "       [-0.34921106,  1.        ],\n",
       "       [-0.47984754,  1.        ],\n",
       "       [ 0.35053569,  1.        ],\n",
       "       [-0.55613809,  1.        ],\n",
       "       [ 1.24021724,  1.        ],\n",
       "       [-0.26122776,  1.        ],\n",
       "       [ 0.50352824,  1.        ],\n",
       "       [-1.16438082,  1.        ],\n",
       "       [ 0.77177447,  1.        ],\n",
       "       [ 1.02583787,  1.        ],\n",
       "       [ 0.22449063,  1.        ],\n",
       "       [ 0.27152517,  1.        ],\n",
       "       [-0.80163172,  1.        ],\n",
       "       [ 0.0109541 ,  1.        ],\n",
       "       [ 1.2858769 ,  1.        ],\n",
       "       [-0.46070983,  1.        ],\n",
       "       [ 0.56817868,  1.        ],\n",
       "       [-0.53464803,  1.        ],\n",
       "       [ 0.06238072,  1.        ],\n",
       "       [ 1.29562732,  1.        ],\n",
       "       [ 0.33178479,  1.        ],\n",
       "       [ 0.25162811,  1.        ],\n",
       "       [ 1.21279453,  1.        ],\n",
       "       [ 1.37595094,  1.        ],\n",
       "       [ 1.35509258,  1.        ],\n",
       "       [ 0.64803593,  1.        ],\n",
       "       [-0.35975027,  1.        ],\n",
       "       [ 1.87080055,  1.        ],\n",
       "       [-2.21606623,  1.        ],\n",
       "       [-0.0314882 ,  1.        ],\n",
       "       [ 1.71731288,  1.        ]])"
      ]
     },
     "execution_count": 24,
     "metadata": {},
     "output_type": "execute_result"
    }
   ],
   "source": [
    "# matrice K\n",
    "P = np.hstack((i, np.ones(i.shape)))\n",
    "P"
   ]
  },
  {
   "cell_type": "code",
   "execution_count": 25,
   "id": "c57ff210",
   "metadata": {
    "scrolled": true
   },
   "outputs": [
    {
     "data": {
      "text/plain": [
       "array([[ 5.82531050e-01,  7.63237217e-01,  1.00000000e+00],\n",
       "       [ 3.13087514e-02, -1.76942791e-01,  1.00000000e+00],\n",
       "       [ 4.22294956e+00,  2.05498164e+00,  1.00000000e+00],\n",
       "       [ 2.69204598e-01,  5.18849302e-01,  1.00000000e+00],\n",
       "       [ 1.16469709e-01, -3.41276588e-01,  1.00000000e+00],\n",
       "       [ 1.63684943e+00, -1.27939417e+00,  1.00000000e+00],\n",
       "       [ 4.47902395e-02,  2.11637047e-01,  1.00000000e+00],\n",
       "       [ 4.32482988e+00,  2.07962253e+00,  1.00000000e+00],\n",
       "       [ 2.34774547e+00,  1.53223545e+00,  1.00000000e+00],\n",
       "       [ 2.79986117e-01,  5.29137144e-01,  1.00000000e+00],\n",
       "       [ 7.64184175e-02, -2.76438813e-01,  1.00000000e+00],\n",
       "       [ 2.16410139e+00,  1.47108851e+00,  1.00000000e+00],\n",
       "       [ 5.99044950e-04, -2.44753948e-02,  1.00000000e+00],\n",
       "       [ 2.81092550e-02,  1.67658149e-01,  1.00000000e+00],\n",
       "       [ 3.08630772e+00,  1.75678904e+00,  1.00000000e+00],\n",
       "       [ 6.65494489e-01,  8.15778456e-01,  1.00000000e+00],\n",
       "       [ 4.04471664e-01, -6.35980868e-01,  1.00000000e+00],\n",
       "       [ 6.81178765e-01,  8.25335547e-01,  1.00000000e+00],\n",
       "       [ 9.23176753e-01,  9.60820875e-01,  1.00000000e+00],\n",
       "       [ 5.79715040e-01,  7.61390202e-01,  1.00000000e+00],\n",
       "       [ 9.13034130e-03, -9.55528194e-02,  1.00000000e+00],\n",
       "       [ 4.61813532e-01,  6.79568637e-01,  1.00000000e+00],\n",
       "       [ 1.07158580e+00, -1.03517429e+00,  1.00000000e+00],\n",
       "       [ 9.99045418e-03,  9.99522595e-02,  1.00000000e+00],\n",
       "       [ 2.77255847e+00, -1.66510014e+00,  1.00000000e+00],\n",
       "       [ 1.83435018e-01, -4.28293145e-01,  1.00000000e+00],\n",
       "       [ 3.51311440e-01, -5.92715311e-01,  1.00000000e+00],\n",
       "       [ 1.00562515e+00, -1.00280863e+00,  1.00000000e+00],\n",
       "       [ 7.42512398e-02, -2.72490807e-01,  1.00000000e+00],\n",
       "       [ 1.37280341e+00,  1.17166694e+00,  1.00000000e+00],\n",
       "       [ 3.20790073e+00,  1.79106134e+00,  1.00000000e+00],\n",
       "       [ 1.09635370e-01, -3.31112322e-01,  1.00000000e+00],\n",
       "       [ 7.85799586e-01,  8.86453375e-01,  1.00000000e+00],\n",
       "       [ 2.72667298e-01, -5.22175543e-01,  1.00000000e+00],\n",
       "       [ 5.50530570e-01,  7.41977473e-01,  1.00000000e+00],\n",
       "       [ 8.58545479e-01, -9.26577292e-01,  1.00000000e+00],\n",
       "       [ 9.11408610e-02, -3.01895447e-01,  1.00000000e+00],\n",
       "       [ 4.86061285e+00,  2.20467976e+00,  1.00000000e+00],\n",
       "       [ 5.46276918e-01, -7.39105485e-01,  1.00000000e+00],\n",
       "       [ 7.53458452e-03,  8.68019845e-02,  1.00000000e+00],\n",
       "       [ 8.53771407e-01, -9.23997515e-01,  1.00000000e+00],\n",
       "       [ 1.46969364e-02,  1.21230922e-01,  1.00000000e+00],\n",
       "       [ 2.48407344e-01, -4.98404799e-01,  1.00000000e+00],\n",
       "       [ 8.19978560e-01,  9.05526676e-01,  1.00000000e+00],\n",
       "       [ 1.24700780e+00,  1.11669503e+00,  1.00000000e+00],\n",
       "       [ 2.09879242e-02, -1.44872096e-01,  1.00000000e+00],\n",
       "       [ 1.86428124e-01, -4.31773233e-01,  1.00000000e+00],\n",
       "       [ 8.31216376e-01,  9.11710686e-01,  1.00000000e+00],\n",
       "       [ 7.86472041e-01,  8.86832589e-01,  1.00000000e+00],\n",
       "       [ 3.08563739e-02, -1.75659824e-01,  1.00000000e+00],\n",
       "       [ 2.04467622e-01,  4.52180961e-01,  1.00000000e+00],\n",
       "       [ 4.33076689e-02, -2.08104947e-01,  1.00000000e+00],\n",
       "       [ 1.19959536e-01, -3.46351751e-01,  1.00000000e+00],\n",
       "       [ 3.02566313e+00, -1.73944334e+00,  1.00000000e+00],\n",
       "       [ 7.40893356e-02,  2.72193563e-01,  1.00000000e+00],\n",
       "       [ 6.66333788e-01,  8.16292710e-01,  1.00000000e+00],\n",
       "       [ 1.33095672e+00, -1.15367097e+00,  1.00000000e+00],\n",
       "       [ 3.79998258e-01, -6.16439988e-01,  1.00000000e+00],\n",
       "       [ 1.51299278e-02,  1.23003772e-01,  1.00000000e+00],\n",
       "       [ 9.55639749e-02, -3.09134234e-01,  1.00000000e+00],\n",
       "       [ 2.24845742e+00, -1.49948572e+00,  1.00000000e+00],\n",
       "       [ 4.19177664e+00, -2.04738288e+00,  1.00000000e+00],\n",
       "       [ 2.49080496e-03,  4.99079649e-02,  1.00000000e+00],\n",
       "       [ 1.06288153e+00, -1.03096146e+00,  1.00000000e+00],\n",
       "       [ 1.40756429e-01, -3.75175198e-01,  1.00000000e+00],\n",
       "       [ 1.39123156e-02,  1.17950480e-01,  1.00000000e+00],\n",
       "       [ 1.20347714e+00,  1.09703106e+00,  1.00000000e+00],\n",
       "       [ 2.89600954e-01,  5.38145848e-01,  1.00000000e+00],\n",
       "       [ 5.66843122e-01, -7.52889847e-01,  1.00000000e+00],\n",
       "       [ 1.21948362e-01, -3.49211056e-01,  1.00000000e+00],\n",
       "       [ 2.30253662e-01, -4.79847540e-01,  1.00000000e+00],\n",
       "       [ 1.22875268e-01,  3.50535687e-01,  1.00000000e+00],\n",
       "       [ 3.09289573e-01, -5.56138088e-01,  1.00000000e+00],\n",
       "       [ 1.53813880e+00,  1.24021724e+00,  1.00000000e+00],\n",
       "       [ 6.82399407e-02, -2.61227756e-01,  1.00000000e+00],\n",
       "       [ 2.53540692e-01,  5.03528244e-01,  1.00000000e+00],\n",
       "       [ 1.35578269e+00, -1.16438082e+00,  1.00000000e+00],\n",
       "       [ 5.95635833e-01,  7.71774470e-01,  1.00000000e+00],\n",
       "       [ 1.05234334e+00,  1.02583787e+00,  1.00000000e+00],\n",
       "       [ 5.03960422e-02,  2.24490628e-01,  1.00000000e+00],\n",
       "       [ 7.37259206e-02,  2.71525175e-01,  1.00000000e+00],\n",
       "       [ 6.42613414e-01, -8.01631720e-01,  1.00000000e+00],\n",
       "       [ 1.19992414e-04,  1.09541049e-02,  1.00000000e+00],\n",
       "       [ 1.65347940e+00,  1.28587690e+00,  1.00000000e+00],\n",
       "       [ 2.12253548e-01, -4.60709831e-01,  1.00000000e+00],\n",
       "       [ 3.22827016e-01,  5.68178683e-01,  1.00000000e+00],\n",
       "       [ 2.85848516e-01, -5.34648030e-01,  1.00000000e+00],\n",
       "       [ 3.89135425e-03,  6.23807201e-02,  1.00000000e+00],\n",
       "       [ 1.67865015e+00,  1.29562732e+00,  1.00000000e+00],\n",
       "       [ 1.10081148e-01,  3.31784792e-01,  1.00000000e+00],\n",
       "       [ 6.33167070e-02,  2.51628112e-01,  1.00000000e+00],\n",
       "       [ 1.47087057e+00,  1.21279453e+00,  1.00000000e+00],\n",
       "       [ 1.89324098e+00,  1.37595094e+00,  1.00000000e+00],\n",
       "       [ 1.83627589e+00,  1.35509258e+00,  1.00000000e+00],\n",
       "       [ 4.19950571e-01,  6.48035933e-01,  1.00000000e+00],\n",
       "       [ 1.29420258e-01, -3.59750271e-01,  1.00000000e+00],\n",
       "       [ 3.49989470e+00,  1.87080055e+00,  1.00000000e+00],\n",
       "       [ 4.91094952e+00, -2.21606623e+00,  1.00000000e+00],\n",
       "       [ 9.91507018e-04, -3.14882044e-02,  1.00000000e+00],\n",
       "       [ 2.94916353e+00,  1.71731288e+00,  1.00000000e+00]])"
      ]
     },
     "execution_count": 25,
     "metadata": {},
     "output_type": "execute_result"
    }
   ],
   "source": [
    "K = np.hstack(((i**2), P))\n",
    "K"
   ]
  },
  {
   "cell_type": "code",
   "execution_count": 26,
   "id": "84c41b11",
   "metadata": {},
   "outputs": [
    {
     "data": {
      "text/plain": [
       "array([[-1.33994519],\n",
       "       [-1.22728644],\n",
       "       [-0.67748294]])"
      ]
     },
     "execution_count": 26,
     "metadata": {},
     "output_type": "execute_result"
    }
   ],
   "source": [
    "# theta\n",
    "thet = np.random.randn(3, 1)\n",
    "thet"
   ]
  },
  {
   "cell_type": "code",
   "execution_count": 27,
   "id": "6e153ff9",
   "metadata": {},
   "outputs": [],
   "source": [
    "# 2- Modèle\n",
    "def mod(K, thet):\n",
    "    return(K.dot(thet))"
   ]
  },
  {
   "cell_type": "code",
   "execution_count": 28,
   "id": "8a30d880",
   "metadata": {},
   "outputs": [],
   "source": [
    "predict = mod(K, thet)"
   ]
  },
  {
   "cell_type": "code",
   "execution_count": 29,
   "id": "131b8248",
   "metadata": {},
   "outputs": [
    {
     "data": {
      "text/plain": [
       "<matplotlib.collections.PathCollection at 0x1a2e60b3210>"
      ]
     },
     "execution_count": 29,
     "metadata": {},
     "output_type": "execute_result"
    },
    {
     "data": {
      "image/png": "[encoded data removed]",
      "text/plain": [
       "<Figure size 640x480 with 1 Axes>"
      ]
     },
     "metadata": {},
     "output_type": "display_data"
    }
   ],
   "source": [
    "plt.scatter(i, predict)"
   ]
  },
  {
   "cell_type": "code",
   "execution_count": 30,
   "id": "f3becb89",
   "metadata": {},
   "outputs": [],
   "source": [
    "# 3- Fonction cout\n",
    "def cost_func(K, thet, j):\n",
    "    m = len(j)\n",
    "    return (1/(2*m) * np.sum((K.dot(thet) - j)**2))"
   ]
  },
  {
   "cell_type": "code",
   "execution_count": 31,
   "id": "a9bc06f4",
   "metadata": {},
   "outputs": [],
   "source": [
    "# 4- Gradient \n",
    "def gr(K, thet, j):\n",
    "    m = len(j)\n",
    "    return ((1/m) * K.T.dot(K.dot(thet) - j))"
   ]
  },
  {
   "cell_type": "code",
   "execution_count": 32,
   "id": "d8136f30",
   "metadata": {},
   "outputs": [],
   "source": [
    "# 5- Descente de gradient\n",
    "def d_gr(K, thet, j, l_rate, n_iterations):\n",
    "    cost_stock = np.empty(n_iterations)\n",
    "    \n",
    "    for l in range(n_iterations):\n",
    "        thet = thet - (l_rate * gr(K, thet, j))\n",
    "        cost_stock[l] = cost_func(K, thet, j)\n",
    "        \n",
    "    return (thet, cost_stock)"
   ]
  },
  {
   "cell_type": "code",
   "execution_count": 33,
   "id": "8724efbf",
   "metadata": {},
   "outputs": [
    {
     "data": {
      "text/plain": [
       "<matplotlib.collections.PathCollection at 0x1a2e6149890>"
      ]
     },
     "execution_count": 33,
     "metadata": {},
     "output_type": "execute_result"
    },
    {
     "data": {
      "image/png": "[encoded data removed]",
      "text/plain": [
       "<Figure size 640x480 with 1 Axes>"
      ]
     },
     "metadata": {},
     "output_type": "display_data"
    }
   ],
   "source": [
    "# 6- Entrainement du modèle\n",
    "th, costa = d_gr(K, thet, j, l_rate = 0.01, n_iterations = 1000)\n",
    "md = mod(K, th)\n",
    "\n",
    "plt.scatter(i[:,0], j)\n",
    "plt.scatter(i[:,0], md, c = 'r')"
   ]
  },
  {
   "cell_type": "code",
   "execution_count": 34,
   "id": "3276f4ef",
   "metadata": {},
   "outputs": [
    {
     "data": {
      "text/plain": [
       "[<matplotlib.lines.Line2D at 0x1a2e6168690>]"
      ]
     },
     "execution_count": 34,
     "metadata": {},
     "output_type": "execute_result"
    },
    {
     "data": {
      "image/png": "[encoded data removed]",
      "text/plain": [
       "<Figure size 640x480 with 1 Axes>"
      ]
     },
     "metadata": {},
     "output_type": "display_data"
    }
   ],
   "source": [
    "# 7- Courbe d'apprentissage\n",
    "plt.plot(range(1000), costa)"
   ]
  },
  {
   "cell_type": "code",
   "execution_count": 35,
   "id": "b424737d",
   "metadata": {},
   "outputs": [
    {
     "data": {
      "text/plain": [
       "0.9327790039595305"
      ]
     },
     "execution_count": 35,
     "metadata": {},
     "output_type": "execute_result"
    }
   ],
   "source": [
    "# 8- Performance du modèle\n",
    "\n",
    "def coef_det(j, pred):\n",
    "    u = ((j - pred)**2).sum()\n",
    "    v = ((j - j.mean())**2).sum()\n",
    "    \n",
    "    return(1 - u/v)\n",
    "\n",
    "coef_det(j, md)"
   ]
  },
  {
   "cell_type": "markdown",
   "id": "2f9fc015",
   "metadata": {},
   "source": [
    "# Multiple Linear Regression"
   ]
  },
  {
   "cell_type": "code",
   "execution_count": 36,
   "id": "e3bc633e",
   "metadata": {},
   "outputs": [
    {
     "data": {
      "text/plain": [
       "<matplotlib.collections.PathCollection at 0x1a2e7303590>"
      ]
     },
     "execution_count": 36,
     "metadata": {},
     "output_type": "execute_result"
    },
    {
     "data": {
      "image/png": "[encoded data removed]",
      "text/plain": [
       "<Figure size 640x480 with 1 Axes>"
      ]
     },
     "metadata": {},
     "output_type": "display_data"
    }
   ],
   "source": [
    "# 1- Dataset\n",
    "x, y = make_regression(n_samples = 100, n_features = 2, noise = 10)\n",
    "plt.scatter(x[:,0], y) # afficher les résultats "
   ]
  },
  {
   "cell_type": "code",
   "execution_count": 37,
   "id": "b4ca489f",
   "metadata": {},
   "outputs": [
    {
     "name": "stdout",
     "output_type": "stream",
     "text": [
      "(100, 2)\n",
      "(100,)\n"
     ]
    }
   ],
   "source": [
    "print(x.shape)\n",
    "print(y.shape)"
   ]
  },
  {
   "cell_type": "code",
   "execution_count": 38,
   "id": "c6765e92",
   "metadata": {},
   "outputs": [
    {
     "name": "stdout",
     "output_type": "stream",
     "text": [
      "(100, 1)\n"
     ]
    }
   ],
   "source": [
    "y = y.reshape(y.shape[0], 1)\n",
    "print(y.shape)"
   ]
  },
  {
   "cell_type": "code",
   "execution_count": 39,
   "id": "563184a9",
   "metadata": {},
   "outputs": [
    {
     "name": "stdout",
     "output_type": "stream",
     "text": [
      "(100, 3)\n",
      "[[-0.29332313  0.90185159  1.        ]\n",
      " [ 0.01612971  1.52307291  1.        ]\n",
      " [-1.00180429  0.55109893  1.        ]\n",
      " [ 0.2445435  -0.44643669  1.        ]\n",
      " [ 0.87389608 -0.50048821  1.        ]\n",
      " [-2.29495431  1.30296824  1.        ]\n",
      " [ 0.4707463  -1.42125281  1.        ]\n",
      " [ 1.25362514  0.26940165  1.        ]\n",
      " [-0.13300378  2.0012219   1.        ]\n",
      " [-0.88220208  1.70916738  1.        ]]\n"
     ]
    }
   ],
   "source": [
    "# Création de la matrice avec biais\n",
    "X = np.hstack((x, np.ones((x.shape[0], 1))))\n",
    "print(X.shape)\n",
    "print(X[:10])"
   ]
  },
  {
   "cell_type": "code",
   "execution_count": 40,
   "id": "c80df28d",
   "metadata": {},
   "outputs": [
    {
     "data": {
      "text/plain": [
       "array([[-1.97647332],\n",
       "       [ 1.56919596],\n",
       "       [-1.49134323]])"
      ]
     },
     "execution_count": 40,
     "metadata": {},
     "output_type": "execute_result"
    }
   ],
   "source": [
    "# Vecteur theta\n",
    "theta = np.random.randn(3, 1)\n",
    "theta"
   ]
  },
  {
   "cell_type": "code",
   "execution_count": 41,
   "id": "d6d9dc2a",
   "metadata": {},
   "outputs": [],
   "source": [
    "# 2- Modèle\n",
    "def model(X, theta):\n",
    "    return(X.dot(theta))"
   ]
  },
  {
   "cell_type": "code",
   "execution_count": 42,
   "id": "97a2bcd7",
   "metadata": {},
   "outputs": [
    {
     "data": {
      "text/plain": [
       "<matplotlib.collections.PathCollection at 0x1a2e73ad550>"
      ]
     },
     "execution_count": 42,
     "metadata": {},
     "output_type": "execute_result"
    },
    {
     "data": {
      "image/png": "[encoded data removed]",
      "text/plain": [
       "<Figure size 640x480 with 1 Axes>"
      ]
     },
     "metadata": {},
     "output_type": "display_data"
    }
   ],
   "source": [
    "plt.scatter(x[:, 0], model(X, theta))"
   ]
  },
  {
   "cell_type": "code",
   "execution_count": 43,
   "id": "71dfb2b6",
   "metadata": {},
   "outputs": [],
   "source": [
    "# 3- Fonction cout\n",
    "def cost_func(X, y, theta):\n",
    "    m = len(y)\n",
    "    return (1/(2*m)) * np.sum((X.dot(theta) - y)**2)"
   ]
  },
  {
   "cell_type": "code",
   "execution_count": 44,
   "id": "53f69b19",
   "metadata": {},
   "outputs": [],
   "source": [
    "# 4- Gradient\n",
    "def grad(X, y, theta):\n",
    "    m = len(y)\n",
    "    return ((1/m) * X.T.dot(X.dot(theta) - y))"
   ]
  },
  {
   "cell_type": "code",
   "execution_count": 45,
   "id": "e75f6299",
   "metadata": {},
   "outputs": [],
   "source": [
    "# 5- Descente de gradient\n",
    "def d_gr(X, y, theta, l_rate, n_ite):\n",
    "    cost_hist = np.empty(n_ite)\n",
    "    \n",
    "    for i in range(n_ite):\n",
    "        theta = theta - (l_rate * grad(X, y, theta))\n",
    "        cost_hist[i] = cost_func(X, y, theta)\n",
    "        \n",
    "    return theta, cost_hist"
   ]
  },
  {
   "cell_type": "code",
   "execution_count": 46,
   "id": "6a1d3e6f",
   "metadata": {},
   "outputs": [
    {
     "data": {
      "text/plain": [
       "array([[28.28138002],\n",
       "       [29.81059356],\n",
       "       [ 0.55683454]])"
      ]
     },
     "execution_count": 46,
     "metadata": {},
     "output_type": "execute_result"
    }
   ],
   "source": [
    "# 6- Entrainement du modèle\n",
    "theta_final, cost_history = d_gr(X, y, theta, l_rate = 0.01, n_ite = 1000)\n",
    "theta_final"
   ]
  },
  {
   "cell_type": "code",
   "execution_count": 47,
   "id": "cccea027",
   "metadata": {},
   "outputs": [
    {
     "data": {
      "text/plain": [
       "<matplotlib.collections.PathCollection at 0x1a2e756c990>"
      ]
     },
     "execution_count": 47,
     "metadata": {},
     "output_type": "execute_result"
    },
    {
     "data": {
      "image/png": "[encoded data removed]",
      "text/plain": [
       "<Figure size 640x480 with 1 Axes>"
      ]
     },
     "metadata": {},
     "output_type": "display_data"
    }
   ],
   "source": [
    "# 7- Création d'un vecteur de prédiction qui nous donne les prédictions du modèle\n",
    "pred = model(X, theta_final)\n",
    "\n",
    "plt.scatter(x[:, 0], y)\n",
    "plt.scatter(x[:, 0], pred, c = 'r')"
   ]
  },
  {
   "cell_type": "code",
   "execution_count": 48,
   "id": "5b5ee67e",
   "metadata": {},
   "outputs": [
    {
     "data": {
      "text/plain": [
       "[<matplotlib.lines.Line2D at 0x1a2e75a4490>]"
      ]
     },
     "execution_count": 48,
     "metadata": {},
     "output_type": "execute_result"
    },
    {
     "data": {
      "image/png": "[encoded data removed]",
      "text/plain": [
       "<Figure size 640x480 with 1 Axes>"
      ]
     },
     "metadata": {},
     "output_type": "display_data"
    }
   ],
   "source": [
    "# 8- Courbe d'apprentissage\n",
    "plt.plot(range(1000), cost_history)"
   ]
  },
  {
   "cell_type": "code",
   "execution_count": 49,
   "id": "0a2b6c61",
   "metadata": {},
   "outputs": [
    {
     "data": {
      "text/plain": [
       "0.9492258144644087"
      ]
     },
     "execution_count": 49,
     "metadata": {},
     "output_type": "execute_result"
    }
   ],
   "source": [
    "# 9- Performance du modèle\n",
    "\n",
    "def coef_det(y, pred):\n",
    "    u = ((y - pred)**2).sum()\n",
    "    v = ((y - y.mean())**2).sum()\n",
    "    \n",
    "    return(1 - u/v)\n",
    "\n",
    "coef_det(y, model(X, theta_final))"
   ]
  },
  {
   "cell_type": "code",
   "execution_count": null,
   "id": "73cb4c17",
   "metadata": {},
   "outputs": [],
   "source": []
  },
  {
   "cell_type": "code",
   "execution_count": null,
   "id": "458b5e5e",
   "metadata": {},
   "outputs": [],
   "source": []
  },
  {
   "cell_type": "code",
   "execution_count": null,
   "id": "1069838d",
   "metadata": {},
   "outputs": [],
   "source": []
  },
  {
   "cell_type": "code",
   "execution_count": null,
   "id": "317a0232",
   "metadata": {},
   "outputs": [],
   "source": []
  }
 ],
 "metadata": {
  "kernelspec": {
   "display_name": "Python 3 (ipykernel)",
   "language": "python",
   "name": "python3"
  },
  "language_info": {
   "codemirror_mode": {
    "name": "ipython",
    "version": 3
   },
   "file_extension": ".py",
   "mimetype": "text/x-python",
   "name": "python",
   "nbconvert_exporter": "python",
   "pygments_lexer": "ipython3",
   "version": "3.11.3"
  }
 },
 "nbformat": 4,
 "nbformat_minor": 5
}
